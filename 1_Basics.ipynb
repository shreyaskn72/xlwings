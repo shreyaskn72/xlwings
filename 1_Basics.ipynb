{
 "cells": [
  {
   "cell_type": "code",
   "execution_count": 14,
   "id": "a7b97b3b",
   "metadata": {},
   "outputs": [],
   "source": [
    "import xlwings as xw"
   ]
  },
  {
   "cell_type": "code",
   "execution_count": 15,
   "id": "e9e7b651",
   "metadata": {},
   "outputs": [],
   "source": [
    "#Creating new excel book and save it\n",
    "\n",
    "wb = xw.Book()\n",
    "wb.save(\"demonstration.xlsx\")\n",
    "\n",
    "#if you want to save it in a different folder use below syntax\n",
    "#wb.save(r\"C:\\path\\to\\demonstration.xlsx\")  \n"
   ]
  },
  {
   "cell_type": "code",
   "execution_count": 16,
   "id": "147f748d",
   "metadata": {},
   "outputs": [],
   "source": [
    "#To open the existing workbook use\n",
    "#wb = xw.Book(r\"C:\\path\\to\\file.xlsx\")"
   ]
  },
  {
   "cell_type": "code",
   "execution_count": 17,
   "id": "090a1f69",
   "metadata": {},
   "outputs": [
    {
     "data": {
      "text/plain": [
       "<Sheet [demonstration.xlsx]demo2>"
      ]
     },
     "execution_count": 17,
     "metadata": {},
     "output_type": "execute_result"
    }
   ],
   "source": [
    "#creating Sheets\n",
    "\n",
    "#Syntax : wb.sheets.add('sheetname')\n",
    "\n",
    "wb.sheets.add(\"demo1\")\n",
    "wb.sheets.add(\"demo2\")\n"
   ]
  },
  {
   "cell_type": "code",
   "execution_count": 18,
   "id": "747b3cf2",
   "metadata": {},
   "outputs": [],
   "source": [
    "#Instantiating the sheets\n",
    "\n",
    "ws1 = wb.sheets[\"demo1\"]\n",
    "ws2 = wb.sheets[\"demo2\"]"
   ]
  },
  {
   "cell_type": "code",
   "execution_count": 19,
   "id": "e7af1ce3",
   "metadata": {},
   "outputs": [],
   "source": [
    "#writing to a specific cell\n",
    "\n",
    "ws1.range(\"A1\").value = \"hello from Shreyas\"\n",
    "ws1.range(\"B1\").value = 500\n"
   ]
  },
  {
   "cell_type": "code",
   "execution_count": 20,
   "id": "98b36f58",
   "metadata": {},
   "outputs": [
    {
     "name": "stdout",
     "output_type": "stream",
     "text": [
      "hello from Shreyas\n",
      "500.0\n"
     ]
    }
   ],
   "source": [
    "#Reading a specific cell\n",
    "\n",
    "print(ws1.range(\"A1\").value)\n",
    "print(ws1.range(\"B1\").value)"
   ]
  },
  {
   "cell_type": "code",
   "execution_count": 21,
   "id": "c8a89158",
   "metadata": {},
   "outputs": [],
   "source": [
    "#Clearing contents of a sheet\n",
    "ws1.cells.clear_contents()"
   ]
  },
  {
   "cell_type": "code",
   "execution_count": 22,
   "id": "8b8bb3ea",
   "metadata": {},
   "outputs": [],
   "source": [
    "# Enter values by rows\n",
    "\n",
    "ws1.range(\"A4\").value = [5,10,15,20]"
   ]
  },
  {
   "cell_type": "code",
   "execution_count": 23,
   "id": "b6cc005c",
   "metadata": {},
   "outputs": [],
   "source": [
    "#Entering the value column wise\n",
    "\n",
    "\n",
    "ws1.range(\"A20\").options(transpose = True).value = [1,2,3,4,5]"
   ]
  },
  {
   "cell_type": "code",
   "execution_count": 24,
   "id": "2cc34ff2",
   "metadata": {},
   "outputs": [],
   "source": [
    "\n",
    "#entering values by rows and columns\n",
    "\n",
    "ws1.cells(1,5).value = 200\n",
    "ws1.range(\"A1\").value = \"hello from shreyas\"\n",
    "ws1.range(\"D11\").value = [[\"sl.no\", \"col1\", \"col2\"], [1, 1, 2], [2, 3,4]]"
   ]
  },
  {
   "cell_type": "code",
   "execution_count": 25,
   "id": "c831ceb0",
   "metadata": {},
   "outputs": [
    {
     "name": "stdout",
     "output_type": "stream",
     "text": [
      "[['sl.no', 'col1', 'col2'], [1.0, 1.0, 2.0], [2.0, 3.0, 4.0]]\n",
      "[5.0, 10.0, 15.0, 20.0]\n"
     ]
    }
   ],
   "source": [
    "#Reading cells by range\n",
    "\n",
    "\n",
    "#The below statement prints all the values inside D11,E11, F11,  D12,E12, F12,D13,E13, F13\n",
    "\n",
    "data1 = ws1.range(\"D11:F13\").value\n",
    "print(data1)\n",
    "\n",
    "#The below statement will print all values starting from A4 till it enconunters empty cell\n",
    "data2 = ws1.range(\"A4\").expand().value\n",
    "print(data2)"
   ]
  },
  {
   "cell_type": "code",
   "execution_count": 26,
   "id": "86f5cf80",
   "metadata": {},
   "outputs": [],
   "source": [
    "#closing the work book\n",
    "\n",
    "wb.save()  #saving before closing\n",
    "wb.close()"
   ]
  },
  {
   "cell_type": "code",
   "execution_count": null,
   "id": "f2719ba7",
   "metadata": {},
   "outputs": [],
   "source": []
  }
 ],
 "metadata": {
  "kernelspec": {
   "display_name": "Python 3 (ipykernel)",
   "language": "python",
   "name": "python3"
  },
  "language_info": {
   "codemirror_mode": {
    "name": "ipython",
    "version": 3
   },
   "file_extension": ".py",
   "mimetype": "text/x-python",
   "name": "python",
   "nbconvert_exporter": "python",
   "pygments_lexer": "ipython3",
   "version": "3.9.4"
  }
 },
 "nbformat": 4,
 "nbformat_minor": 5
}
